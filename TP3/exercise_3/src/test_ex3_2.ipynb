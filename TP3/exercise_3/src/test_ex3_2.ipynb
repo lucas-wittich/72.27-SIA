{
 "cells": [
  {
   "cell_type": "markdown",
   "id": "d44157d0",
   "metadata": {},
   "source": [
    "# Exercise 3 Parity"
   ]
  },
  {
   "cell_type": "markdown",
   "id": "0d208c8d",
   "metadata": {},
   "source": [
    "## Imports"
   ]
  },
  {
   "cell_type": "markdown",
   "id": "c6cfd1e8",
   "metadata": {},
   "source": [
    "## Configuration"
   ]
  },
  {
   "cell_type": "markdown",
   "id": "002c166f",
   "metadata": {},
   "source": [
    "## Basic Test"
   ]
  },
  {
   "cell_type": "markdown",
   "id": "5742deb0",
   "metadata": {},
   "source": [
    "## Testing on different Optimizers"
   ]
  },
  {
   "cell_type": "markdown",
   "id": "5cf9c3fa",
   "metadata": {},
   "source": [
    "### Gradient Descent"
   ]
  },
  {
   "cell_type": "markdown",
   "id": "105724c4",
   "metadata": {},
   "source": [
    "### Momentum"
   ]
  },
  {
   "cell_type": "markdown",
   "id": "a3591777",
   "metadata": {},
   "source": [
    "### Adam"
   ]
  }
 ],
 "metadata": {
  "kernelspec": {
   "display_name": "base",
   "language": "python",
   "name": "python3"
  },
  "language_info": {
   "name": "python",
   "version": "3.12.4"
  }
 },
 "nbformat": 4,
 "nbformat_minor": 5
}
