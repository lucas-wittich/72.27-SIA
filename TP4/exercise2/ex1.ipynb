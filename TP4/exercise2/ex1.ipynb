{
 "cells": [
  {
   "cell_type": "markdown",
   "metadata": {},
   "source": [
    "# Exercise 2.1 - Hopfield Network\n",
    "\n",
    "We implement a Hopfield neural network to store and retrieve binary letter patterns represented as 5×5 matrices with values {1, -1}.\n",
    "\n",
    "The goal is to:\n",
    "- Store 4 letter patterns\n",
    "- Recover them from noisy versions\n",
    "- Observe the convergence step by step\n",
    "- Test for a spurious (non-original) state\n"
   ]
  },
  {
   "cell_type": "code",
   "execution_count": 8,
   "metadata": {},
   "outputs": [],
   "source": [
    "import numpy as np\n",
    "import matplotlib.pyplot as plt\n",
    "import matplotlib.pyplot as plt\n",
    "import imageio\n",
    "import os\n"
   ]
  },
  {
   "cell_type": "markdown",
   "metadata": {},
   "source": [
    "### Define letter patterns"
   ]
  },
  {
   "cell_type": "code",
   "execution_count": 9,
   "metadata": {},
   "outputs": [],
   "source": [
    "# Define 5x5 binary letter patterns (1 and -1)\n",
    "def create_patterns():\n",
    "    A = np.array([[1, 1, 1, 1, 1],\n",
    "                  [1, -1, -1, -1, 1],\n",
    "                  [1, 1, 1, 1, 1],\n",
    "                  [1, -1, -1, -1, 1],\n",
    "                  [1, -1, -1, -1, 1]])\n",
    "\n",
    "    H = np.array([[1, -1, -1, -1, 1],\n",
    "                  [1, -1, -1, -1, 1],\n",
    "                  [1, 1, 1, 1, 1],\n",
    "                  [1, -1, -1, -1, 1],\n",
    "                  [1, -1, -1, -1, 1]])\n",
    "\n",
    "    J = np.array([[1, 1, 1, 1, 1],\n",
    "                  [-1, -1, -1, -1, 1],\n",
    "                  [-1, -1, -1, -1, 1],\n",
    "                  [1, -1, -1, -1, 1],\n",
    "                  [1, 1, 1, 1, 1]])\n",
    "\n",
    "    T = np.array([[1, 1, 1, 1, 1],\n",
    "                  [-1, -1, 1, -1, -1],\n",
    "                  [-1, -1, 1, -1, -1],\n",
    "                  [-1, -1, 1, -1, -1],\n",
    "                  [-1, -1, 1, -1, -1]])\n",
    "\n",
    "    return [A, H, J, T]\n",
    "\n",
    "patterns = create_patterns()\n"
   ]
  },
  {
   "cell_type": "markdown",
   "metadata": {},
   "source": [
    "### Help functions + Noise addition"
   ]
  },
  {
   "cell_type": "code",
   "execution_count": 10,
   "metadata": {},
   "outputs": [],
   "source": [
    "def show_array(x, side=5):\n",
    "    plt.imshow(x.reshape(side, side), cmap='gray', vmin=-1, vmax=1)\n",
    "    plt.axis('off')\n",
    "    plt.show()\n",
    "\n",
    "def show_multiple_arraysi(arrays, side=5):\n",
    "    fig, axes = plt.subplots(1, len(arrays), figsize=(len(arrays) * 2, 2))\n",
    "    for i, ax in enumerate(axes):\n",
    "        ax.imshow(arrays[i].reshape(side, side), cmap='gray', vmin=-1, vmax=1)\n",
    "        ax.axis('off')\n",
    "    plt.show()\n",
    "\n",
    "def add_noise(x, flip_fraction):\n",
    "    x_noisy = x.copy()\n",
    "    n_flip = max(1, int(len(x) * flip_fraction))\n",
    "    flip_indices = np.random.choice(len(x), n_flip, replace=False)\n",
    "    x_noisy[flip_indices] *= -1\n",
    "    return x_noisy"
   ]
  },
  {
   "cell_type": "markdown",
   "metadata": {},
   "source": [
    "### Hopfield"
   ]
  },
  {
   "cell_type": "code",
   "execution_count": 11,
   "metadata": {},
   "outputs": [],
   "source": [
    "def train_hopfield(X):\n",
    "    \"\"\"\n",
    "    Trains a Hopfield network using Hebbian learning.\n",
    "\n",
    "    Parameters:\n",
    "    - X: a 2D NumPy array where each row is a flattened binary pattern (values should be -1 or 1).\n",
    "\n",
    "    Returns:\n",
    "    - W: the weight matrix of the Hopfield network.\n",
    "    \"\"\"\n",
    "    n = X.shape[1]  # Number of neurons (one per pixel)\n",
    "    W = np.zeros((n, n))  # Initialize weight matrix\n",
    "\n",
    "    for x in X:\n",
    "        W += np.outer(x, x)  # Hebbian learning: strengthen connections between co-active neurons\n",
    "\n",
    "    np.fill_diagonal(W, 0)  # No self-connections\n",
    "    return W / X.shape[0]   # Normalize by number of patterns to prevent weight saturation\n",
    "\n",
    "\n",
    "def hopfield_recall(x0, W, steps=100):\n",
    "    x = x0.copy()\n",
    "    history = [x.copy()]\n",
    "    n = len(x)\n",
    "\n",
    "    for _ in range(steps):\n",
    "        indices = np.random.permutation(n)\n",
    "        for i in indices:\n",
    "            raw = np.dot(W[i], x)\n",
    "            x[i] = 1 if raw >= 0 else -1\n",
    "        if np.array_equal(x, history[-1]):\n",
    "            break\n",
    "        history.append(x.copy())\n",
    "    return history\n"
   ]
  },
  {
   "cell_type": "markdown",
   "metadata": {},
   "source": [
    "### Visualization"
   ]
  },
  {
   "cell_type": "code",
   "execution_count": 12,
   "metadata": {},
   "outputs": [],
   "source": [
    "def plot_steps_and_gif(history, gif_name=\"hopfield_steps.gif\", side=5):\n",
    "    frames = []\n",
    "    for i, state in enumerate(history):\n",
    "        fig, ax = plt.subplots(figsize=(2, 2))\n",
    "        ax.imshow(state.reshape(side, side), cmap='gray', vmin=-1, vmax=1)\n",
    "        ax.axis('off')\n",
    "        ax.set_title(f\"Step {i}\")\n",
    "        plt.tight_layout()\n",
    "\n",
    "        filename = f\"temp_step_{i}.png\"\n",
    "        plt.savefig(filename, dpi=100)\n",
    "        frames.append(imageio.v2.imread(filename))\n",
    "        plt.close()\n",
    "        os.remove(filename)\n",
    "\n",
    "    imageio.mimsave(gif_name, frames, duration=0.8, loop=0)\n",
    "    print(f\"GIF saved as: {gif_name}\")\n"
   ]
  },
  {
   "cell_type": "markdown",
   "metadata": {},
   "source": [
    "### Train and run"
   ]
  },
  {
   "cell_type": "code",
   "execution_count": 17,
   "metadata": {},
   "outputs": [
    {
     "name": "stdout",
     "output_type": "stream",
     "text": [
      "Noisy input:\n"
     ]
    },
    {
     "data": {
      "image/png": "[encoded data removed]",
      "text/plain": [
       "<Figure size 640x480 with 1 Axes>"
      ]
     },
     "metadata": {},
     "output_type": "display_data"
    },
    {
     "name": "stdout",
     "output_type": "stream",
     "text": [
      "Reconstructed:\n"
     ]
    },
    {
     "data": {
      "image/png": "[encoded data removed]",
      "text/plain": [
       "<Figure size 640x480 with 1 Axes>"
      ]
     },
     "metadata": {},
     "output_type": "display_data"
    },
    {
     "name": "stdout",
     "output_type": "stream",
     "text": [
      "GIF saved as: hopfield_steps.gif\n",
      "Likhet med original: -1.00\n"
     ]
    }
   ],
   "source": [
    "# Flatten 5x5 -> 25 and stack\n",
    "X = np.array([p.flatten() for p in patterns])\n",
    "\n",
    "# Train\n",
    "W = train_hopfield(X)\n",
    "\n",
    "# pick patterns and add noise \n",
    "idx = 2  # chosen letter\n",
    "x_orig = X[idx]\n",
    "x_noisy = add_noise(x_orig, flip_fraction=0.7)\n",
    "\n",
    "print(\"Noisy input:\")\n",
    "show_array(x_noisy)\n",
    "\n",
    "# recall\n",
    "history = hopfield_recall(x_noisy, W, steps=100)\n",
    "\n",
    "print(\"Reconstructed:\")\n",
    "show_array(history[-1])\n",
    "\n",
    "# make GIF\n",
    "plot_steps_and_gif(history, gif_name=\"hopfield_steps.gif\", side=5)\n",
    "similarity = np.dot(history[-1], x_orig) / len(x_orig)\n",
    "print(f\"Likhet med original: {similarity:.2f}\")\n"
   ]
  }
 ],
 "metadata": {
  "kernelspec": {
   "display_name": "p10",
   "language": "python",
   "name": "python3"
  },
  "language_info": {
   "codemirror_mode": {
    "name": "ipython",
    "version": 3
   },
   "file_extension": ".py",
   "mimetype": "text/x-python",
   "name": "python",
   "nbconvert_exporter": "python",
   "pygments_lexer": "ipython3",
   "version": "3.10.15"
  }
 },
 "nbformat": 4,
 "nbformat_minor": 2
}
