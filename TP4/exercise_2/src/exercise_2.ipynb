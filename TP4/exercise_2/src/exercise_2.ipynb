{
 "cells": [
  {
   "cell_type": "markdown",
   "id": "abf222a5",
   "metadata": {},
   "source": [
    "# Exercise 2"
   ]
  },
  {
   "cell_type": "markdown",
   "id": "68d5b240",
   "metadata": {},
   "source": [
    "## Imports"
   ]
  },
  {
   "cell_type": "code",
   "execution_count": null,
   "id": "7c8be4dd",
   "metadata": {},
   "outputs": [],
   "source": [
    "from patterns import letter_templates, flatten, add_noise, plot_pattern, plot_trajectory, unflatten\n",
    "from hopfield import HopfieldNetwork\n",
    "import numpy as np\n",
    "import matplotlib.pyplot as plt\n",
    "from matplotlib import rc\n",
    "from IPython.display import HTML\n",
    "\n",
    "# enable JSHTML display for animations\n",
    "rc('animation', html='jshtml')"
   ]
  },
  {
   "cell_type": "markdown",
   "id": "8f9924ef",
   "metadata": {},
   "source": [
    "## Load and Process Data"
   ]
  },
  {
   "cell_type": "code",
   "execution_count": 2,
   "id": "0fbb368b",
   "metadata": {},
   "outputs": [],
   "source": [
    "templates = letter_templates()\n",
    "pats = np.stack([flatten(p) for p in templates.values()])"
   ]
  },
  {
   "cell_type": "markdown",
   "id": "f5299c75",
   "metadata": {},
   "source": [
    "## Training Hopfield Net"
   ]
  },
  {
   "cell_type": "code",
   "execution_count": 3,
   "id": "2147ceed",
   "metadata": {},
   "outputs": [
    {
     "name": "stdout",
     "output_type": "stream",
     "text": [
      "Trained on patterns: ['J', 'A', 'B', 'P']\n"
     ]
    }
   ],
   "source": [
    "net = HopfieldNetwork(dim=25)\n",
    "net.train(pats)\n",
    "print(\"Trained on patterns:\", list(templates.keys()))"
   ]
  },
  {
   "cell_type": "markdown",
   "id": "e2c993cc",
   "metadata": {},
   "source": [
    "## Visualisation"
   ]
  },
  {
   "cell_type": "code",
   "execution_count": 4,
   "id": "8b714851",
   "metadata": {},
   "outputs": [
    {
     "data": {
      "image/png": "[encoded data removed]",
      "text/plain": [
       "<Figure size 800x200 with 4 Axes>"
      ]
     },
     "metadata": {},
     "output_type": "display_data"
    }
   ],
   "source": [
    "fig, axes = plt.subplots(1, len(templates), figsize=(2*len(templates), 2))\n",
    "for ax, (letter, pat) in zip(axes, templates.items()):\n",
    "    ax.imshow(pat, cmap='gray_r', vmin=-1, vmax=1)\n",
    "    ax.set_title(letter)\n",
    "    ax.axis('off')\n",
    "plt.suptitle(\"Stored 5×5 Templates\")\n",
    "plt.tight_layout()"
   ]
  },
  {
   "cell_type": "markdown",
   "id": "91f62029",
   "metadata": {},
   "source": [
    "## Testing With Noise"
   ]
  },
  {
   "cell_type": "code",
   "execution_count": 5,
   "id": "b408304f",
   "metadata": {},
   "outputs": [
    {
     "data": {
      "image/png": "[encoded data removed]",
      "text/plain": [
       "<Figure size 600x200 with 3 Axes>"
      ]
     },
     "metadata": {},
     "output_type": "display_data"
    }
   ],
   "source": [
    "original = pats[0]\n",
    "noisy = add_noise(original, flip_fraction=0.2)\n",
    "\n",
    "# run recall\n",
    "traj = net.recall(noisy, max_iters=10, synchronous=True)\n",
    "\n",
    "# plot all steps side‐by‐side\n",
    "fig = net.plot_trajectory(traj)\n",
    "fig.suptitle(\"Recall Evolution (static)\")\n",
    "plt.show()"
   ]
  },
  {
   "cell_type": "code",
   "execution_count": 6,
   "id": "206aeddb",
   "metadata": {},
   "outputs": [
    {
     "data": {
      "text/html": [
       "\n",
       "<link rel=\"stylesheet\"\n",
       "href=\"https://maxcdn.bootstrapcdn.com/font-awesome/4.4.0/css/font-awesome.min.css\">\n",
       "<script language=\"javascript\">\n",
       "  function isInternetExplorer() {\n",
       "    ua = navigator.userAgent;\n",
       "    /* MSIE used to detect old browsers and Trident used to newer ones*/\n",
       "    return ua.indexOf(\"MSIE \") > -1 || ua.indexOf(\"Trident/\") > -1;\n",
       "  }\n",
       "\n",
       "  /* Define the Animation class */\n",
       "  function Animation(frames, img_id, slider_id, interval, loop_select_id){\n",
       "    this.img_id = img_id;\n",
       "    this.slider_id = slider_id;\n",
       "    this.loop_select_id = loop_select_id;\n",
       "    this.interval = interval;\n",
       "    this.current_frame = 0;\n",
       "    this.direction = 0;\n",
       "    this.timer = null;\n",
       "    this.frames = new Array(frames.length);\n",
       "\n",
       "    for (var i=0; i<frames.length; i++)\n",
       "    {\n",
       "     this.frames[i] = new Image();\n",
       "     this.frames[i].src = frames[i];\n",
       "    }\n",
       "    var slider = document.getElementById(this.slider_id);\n",
       "    slider.max = this.frames.length - 1;\n",
       "    if (isInternetExplorer()) {\n",
       "        // switch from oninput to onchange because IE <= 11 does not conform\n",
       "        // with W3C specification. It ignores oninput and onchange behaves\n",
       "        // like oninput. In contrast, Microsoft Edge behaves correctly.\n",
       "        slider.setAttribute('onchange', slider.getAttribute('oninput'));\n",
       "        slider.setAttribute('oninput', null);\n",
       "    }\n",
       "    this.set_frame(this.current_frame);\n",
       "  }\n",
       "\n",
       "  Animation.prototype.get_loop_state = function(){\n",
       "    var button_group = document[this.loop_select_id].state;\n",
       "    for (var i = 0; i < button_group.length; i++) {\n",
       "        var button = button_group[i];\n",
       "        if (button.checked) {\n",
       "            return button.value;\n",
       "        }\n",
       "    }\n",
       "    return undefined;\n",
       "  }\n",
       "\n",
       "  Animation.prototype.set_frame = function(frame){\n",
       "    this.current_frame = frame;\n",
       "    document.getElementById(this.img_id).src =\n",
       "            this.frames[this.current_frame].src;\n",
       "    document.getElementById(this.slider_id).value = this.current_frame;\n",
       "  }\n",
       "\n",
       "  Animation.prototype.next_frame = function()\n",
       "  {\n",
       "    this.set_frame(Math.min(this.frames.length - 1, this.current_frame + 1));\n",
       "  }\n",
       "\n",
       "  Animation.prototype.previous_frame = function()\n",
       "  {\n",
       "    this.set_frame(Math.max(0, this.current_frame - 1));\n",
       "  }\n",
       "\n",
       "  Animation.prototype.first_frame = function()\n",
       "  {\n",
       "    this.set_frame(0);\n",
       "  }\n",
       "\n",
       "  Animation.prototype.last_frame = function()\n",
       "  {\n",
       "    this.set_frame(this.frames.length - 1);\n",
       "  }\n",
       "\n",
       "  Animation.prototype.slower = function()\n",
       "  {\n",
       "    this.interval /= 0.7;\n",
       "    if(this.direction > 0){this.play_animation();}\n",
       "    else if(this.direction < 0){this.reverse_animation();}\n",
       "  }\n",
       "\n",
       "  Animation.prototype.faster = function()\n",
       "  {\n",
       "    this.interval *= 0.7;\n",
       "    if(this.direction > 0){this.play_animation();}\n",
       "    else if(this.direction < 0){this.reverse_animation();}\n",
       "  }\n",
       "\n",
       "  Animation.prototype.anim_step_forward = function()\n",
       "  {\n",
       "    this.current_frame += 1;\n",
       "    if(this.current_frame < this.frames.length){\n",
       "      this.set_frame(this.current_frame);\n",
       "    }else{\n",
       "      var loop_state = this.get_loop_state();\n",
       "      if(loop_state == \"loop\"){\n",
       "        this.first_frame();\n",
       "      }else if(loop_state == \"reflect\"){\n",
       "        this.last_frame();\n",
       "        this.reverse_animation();\n",
       "      }else{\n",
       "        this.pause_animation();\n",
       "        this.last_frame();\n",
       "      }\n",
       "    }\n",
       "  }\n",
       "\n",
       "  Animation.prototype.anim_step_reverse = function()\n",
       "  {\n",
       "    this.current_frame -= 1;\n",
       "    if(this.current_frame >= 0){\n",
       "      this.set_frame(this.current_frame);\n",
       "    }else{\n",
       "      var loop_state = this.get_loop_state();\n",
       "      if(loop_state == \"loop\"){\n",
       "        this.last_frame();\n",
       "      }else if(loop_state == \"reflect\"){\n",
       "        this.first_frame();\n",
       "        this.play_animation();\n",
       "      }else{\n",
       "        this.pause_animation();\n",
       "        this.first_frame();\n",
       "      }\n",
       "    }\n",
       "  }\n",
       "\n",
       "  Animation.prototype.pause_animation = function()\n",
       "  {\n",
       "    this.direction = 0;\n",
       "    if (this.timer){\n",
       "      clearInterval(this.timer);\n",
       "      this.timer = null;\n",
       "    }\n",
       "  }\n",
       "\n",
       "  Animation.prototype.play_animation = function()\n",
       "  {\n",
       "    this.pause_animation();\n",
       "    this.direction = 1;\n",
       "    var t = this;\n",
       "    if (!this.timer) this.timer = setInterval(function() {\n",
       "        t.anim_step_forward();\n",
       "    }, this.interval);\n",
       "  }\n",
       "\n",
       "  Animation.prototype.reverse_animation = function()\n",
       "  {\n",
       "    this.pause_animation();\n",
       "    this.direction = -1;\n",
       "    var t = this;\n",
       "    if (!this.timer) this.timer = setInterval(function() {\n",
       "        t.anim_step_reverse();\n",
       "    }, this.interval);\n",
       "  }\n",
       "</script>\n",
       "\n",
       "<style>\n",
       ".animation {\n",
       "    display: inline-block;\n",
       "    text-align: center;\n",
       "}\n",
       "input[type=range].anim-slider {\n",
       "    width: 374px;\n",
       "    margin-left: auto;\n",
       "    margin-right: auto;\n",
       "}\n",
       ".anim-buttons {\n",
       "    margin: 8px 0px;\n",
       "}\n",
       ".anim-buttons button {\n",
       "    padding: 0;\n",
       "    width: 36px;\n",
       "}\n",
       ".anim-state label {\n",
       "    margin-right: 8px;\n",
       "}\n",
       ".anim-state input {\n",
       "    margin: 0;\n",
       "    vertical-align: middle;\n",
       "}\n",
       "</style>\n",
       "\n",
       "<div class=\"animation\">\n",
       "  <img id=\"_anim_img43177cb5892e493cb309092418facc68\">\n",
       "  <div class=\"anim-controls\">\n",
       "    <input id=\"_anim_slider43177cb5892e493cb309092418facc68\" type=\"range\" class=\"anim-slider\"\n",
       "           name=\"points\" min=\"0\" max=\"1\" step=\"1\" value=\"0\"\n",
       "           oninput=\"anim43177cb5892e493cb309092418facc68.set_frame(parseInt(this.value));\">\n",
       "    <div class=\"anim-buttons\">\n",
       "      <button title=\"Decrease speed\" aria-label=\"Decrease speed\" onclick=\"anim43177cb5892e493cb309092418facc68.slower()\">\n",
       "          <i class=\"fa fa-minus\"></i></button>\n",
       "      <button title=\"First frame\" aria-label=\"First frame\" onclick=\"anim43177cb5892e493cb309092418facc68.first_frame()\">\n",
       "        <i class=\"fa fa-fast-backward\"></i></button>\n",
       "      <button title=\"Previous frame\" aria-label=\"Previous frame\" onclick=\"anim43177cb5892e493cb309092418facc68.previous_frame()\">\n",
       "          <i class=\"fa fa-step-backward\"></i></button>\n",
       "      <button title=\"Play backwards\" aria-label=\"Play backwards\" onclick=\"anim43177cb5892e493cb309092418facc68.reverse_animation()\">\n",
       "          <i class=\"fa fa-play fa-flip-horizontal\"></i></button>\n",
       "      <button title=\"Pause\" aria-label=\"Pause\" onclick=\"anim43177cb5892e493cb309092418facc68.pause_animation()\">\n",
       "          <i class=\"fa fa-pause\"></i></button>\n",
       "      <button title=\"Play\" aria-label=\"Play\" onclick=\"anim43177cb5892e493cb309092418facc68.play_animation()\">\n",
       "          <i class=\"fa fa-play\"></i></button>\n",
       "      <button title=\"Next frame\" aria-label=\"Next frame\" onclick=\"anim43177cb5892e493cb309092418facc68.next_frame()\">\n",
       "          <i class=\"fa fa-step-forward\"></i></button>\n",
       "      <button title=\"Last frame\" aria-label=\"Last frame\" onclick=\"anim43177cb5892e493cb309092418facc68.last_frame()\">\n",
       "          <i class=\"fa fa-fast-forward\"></i></button>\n",
       "      <button title=\"Increase speed\" aria-label=\"Increase speed\" onclick=\"anim43177cb5892e493cb309092418facc68.faster()\">\n",
       "          <i class=\"fa fa-plus\"></i></button>\n",
       "    </div>\n",
       "    <form title=\"Repetition mode\" aria-label=\"Repetition mode\" action=\"#n\" name=\"_anim_loop_select43177cb5892e493cb309092418facc68\"\n",
       "          class=\"anim-state\">\n",
       "      <input type=\"radio\" name=\"state\" value=\"once\" id=\"_anim_radio1_43177cb5892e493cb309092418facc68\"\n",
       "             checked>\n",
       "      <label for=\"_anim_radio1_43177cb5892e493cb309092418facc68\">Once</label>\n",
       "      <input type=\"radio\" name=\"state\" value=\"loop\" id=\"_anim_radio2_43177cb5892e493cb309092418facc68\"\n",
       "             >\n",
       "      <label for=\"_anim_radio2_43177cb5892e493cb309092418facc68\">Loop</label>\n",
       "      <input type=\"radio\" name=\"state\" value=\"reflect\" id=\"_anim_radio3_43177cb5892e493cb309092418facc68\"\n",
       "             >\n",
       "      <label for=\"_anim_radio3_43177cb5892e493cb309092418facc68\">Reflect</label>\n",
       "    </form>\n",
       "  </div>\n",
       "</div>\n",
       "\n",
       "\n",
       "<script language=\"javascript\">\n",
       "  /* Instantiate the Animation class. */\n",
       "  /* The IDs given should match those used in the template above. */\n",
       "  (function() {\n",
       "    var img_id = \"_anim_img43177cb5892e493cb309092418facc68\";\n",
       "    var slider_id = \"_anim_slider43177cb5892e493cb309092418facc68\";\n",
       "    var loop_select_id = \"_anim_loop_select43177cb5892e493cb309092418facc68\";\n",
       "    var frames = new Array(3);\n",
       "    \n",
       "  frames[0] = \"data:image/png;base64,iVBORw0KGgoAAAANSUhEUgAAASwAAAEsCAYAAAB5fY51AAAAOnRFWHRTb2Z0d2FyZQBNYXRwbG90\\\n",
       "bGliIHZlcnNpb24zLjEwLjAsIGh0dHBzOi8vbWF0cGxvdGxpYi5vcmcvlHJYcgAAAAlwSFlzAAAP\\\n",
       "YQAAD2EBqD+naQAABbRJREFUeJzt3T1qVVsAhuG1LynFMhZCDAn2qY2VpRbiBNJINGDpBHQCdoKN\\\n",
       "jY2NA3AEttrZ+ZMyrZ0I+3bhXjAYc9TtG54HAiE5J3wcwstikUOmeZ7nARDwz9IDAE5LsIAMwQIy\\\n",
       "BAvIECwgQ7CADMECMgQLyBAsIEOwgAzBAjIEC8gQLCBDsIAMwQIyBAvIECwgQ7CADMECMgSLlT16\\\n",
       "9Gh8/fr1p57z/PnzcfXq1bG9vT3u3bs3vn379pvWcZ5M/gkFq5qmaXz58mVcuHDhVI//+PHj2N3d\\\n",
       "HW/fvh3r6+vj9u3b49atW+P+/fu/eSl1Tlis5ODgYIwxxrVr18bOzs44Ojr64XNevXo17ty5My5d\\\n",
       "ujSmaRoHBwfj5cuXv3sq54BgsZJnz56NMcZ48+bNePfu3Xj9+vXY2dn57sfTp0/HGGMcHh6OK1eu\\\n",
       "HP+Mzc3NcXh4uMh+WtaWHsD5sre3N/b29n74uGmajj93K8FpCRa/1IsXL8aTJ0+++739/f3x4MGD\\\n",
       "sbGxMT59+nT89c+fP4+NjY0/tJAyl+6s7OLFi+P9+/fj8uXLp3r8hw8fxvXr1/936X7z5s3j+zA4\\\n",
       "iTssVvbw4cNx48aNU1+6b21tjcePH4/d3d2xvb091tfXx927d//AUuqcsIAMJywgQ7CADMECMgQL\\\n",
       "yBAsIEOwgAzBAjL+2rfm/Pe9ZnAe+RPIn+eEBWQIFpAhWECGYAEZggVkCBaQIVhAhmABGYIFZAgW\\\n",
       "kCFYQIZgARmCBWQIFpAhWECGYAEZggVkCBaQIVhAhmABGYIFZAgWkCFYQIZgARmCBWQIFpAhWECG\\\n",
       "YAEZggVkCBaQIVhAhmABGYIFZAgWkCFYQIZgARmCBWQIFpAhWECGYAEZggVkCBaQIVhAhmABGYIF\\\n",
       "ZKwtPeAk8zwvPYGAaZqWnsAf5IQFZAgWkCFYQIZgARmCBWQIFpAhWECGYAEZggVkCBaQIVhAhmAB\\\n",
       "GYIFZAgWkCFYQIZgARmCBWQIFpAhWECGYAEZggVkCBaQIVhAhmABGYIFZAgWkCFYQIZgARmCBWQI\\\n",
       "FpAhWECGYAEZggVkCBaQIVhAhmABGYIFZAgWkCFYQIZgARmCBWQIFpAhWECGYAEZggVkrC09AFYx\\\n",
       "z/PSE85smqalJ5zJkq+5ExaQIVhAhmABGYIFZAgWkCFYQIZgARmCBWQIFpAhWECGYAEZggVkCBaQ\\\n",
       "IVhAhmABGYIFZAgWkCFYQIZgARmCBWQIFpAhWECGYAEZggVkCBaQIVhAhmABGYIFZAgWkCFYQIZg\\\n",
       "ARmCBWQIFpAhWECGYAEZggVkCBaQIVhAhmABGYIFZAgWkCFYQIZgARmCBWQIFpAhWEDG2tIDTjJN\\\n",
       "09ITzmSe56UnnEn19S6r/q4syQkLyBAsIEOwgAzBAjIEC8gQLCBDsIAMwQIyBAvIECwgQ7CADMEC\\\n",
       "MgQLyBAsIEOwgAzBAjIEC8gQLCBDsIAMwQIyBAvIECwgQ7CADMECMgQLyBAsIEOwgAzBAjIEC8gQ\\\n",
       "LCBDsIAMwQIyBAvIECwgQ7CADMECMgQLyBAsIEOwgAzBAjIEC8gQLCBDsIAMwQIyBAvIWFt6wHkz\\\n",
       "TdPSE85knuelJ8APOWEBGYIFZAgWkCFYQIZgARmCBWQIFpAhWECGYAEZggVkCBaQIVhAhmABGYIF\\\n",
       "ZAgWkCFYQIZgARmCBWQIFpAhWECGYAEZggVkCBaQIVhAhmABGYIFZAgWkCFYQIZgARmCBWQIFpAh\\\n",
       "WECGYAEZggVkCBaQIVhAhmABGYIFZAgWkCFYQIZgARmCBWQIFpAhWECGYAEZa0sPOMk8z0tPAP4y\\\n",
       "TlhAhmABGYIFZAgWkCFYQIZgARmCBWQIFpAhWECGYAEZggVkCBaQIVhAhmABGYIFZAgWkCFYQIZg\\\n",
       "ARmCBWQIFpAhWECGYAEZggVkCBaQIVhAhmABGYIFZAgWkCFYQIZgARmCBWQIFpDxLxZDiBLGQDpy\\\n",
       "AAAAAElFTkSuQmCC\\\n",
       "\"\n",
       "  frames[1] = \"data:image/png;base64,iVBORw0KGgoAAAANSUhEUgAAASwAAAEsCAYAAAB5fY51AAAAOnRFWHRTb2Z0d2FyZQBNYXRwbG90\\\n",
       "bGliIHZlcnNpb24zLjEwLjAsIGh0dHBzOi8vbWF0cGxvdGxpYi5vcmcvlHJYcgAAAAlwSFlzAAAP\\\n",
       "YQAAD2EBqD+naQAABTBJREFUeJzt3bFKXHkchuH/WewyIqSei0hhJSkk92A7nRBIaZpU8Qq8iFxJ\\\n",
       "LsDKwjq1hSBW2px0yxaRNZk1J+/s83QDR/iK4eXHYcBpnud5AAT8tfQAgOcSLCBDsIAMwQIyBAvI\\\n",
       "ECwgQ7CADMECMgQLyBAsIEOwgAzBAjIEC8gQLCBDsIAMwQIyBAvIECwgQ7CADMFia+fn5+Px8fHZ\\\n",
       "z3/79m0cHx+Pg4ODcXh4+ILL2DWTf0LBtqZpGvf392O1Wj3r+dvb23F9fT3u7u7G58+fx+Xl5Qsv\\\n",
       "ZFe4sNjK+/fvxxhjHB0djTdv3oybm5t//ZvXr1+Pt2/fjlevXr30PHaMC4ut/fPC+vLly7i4uPjh\\\n",
       "c6enp+PDhw9/f/769ev4+PGjC4tn21t6ALtls9mMzWaz9Ax2lGDxn/qZCwt+lmCxtf39/XF3dzdW\\\n",
       "q5ULixflpTtbOzs7G+/evXv2S/eHh4exXq/HycnJuLq6Guv1enz69Ok3LKXOS3cgw4UFZAgWkCFY\\\n",
       "QIZgARmCBWQIFpAhWEDGH/tL92malp4A/MCSP910YQEZggVkCBaQIVhAhmABGYIFZAgWkCFYQIZg\\\n",
       "ARmCBWQIFpAhWECGYAEZggVkCBaQIVhAhmABGYIFZAgWkCFYQIZgARmCBWQIFpAhWECGYAEZggVk\\\n",
       "CBaQIVhAhmABGYIFZAgWkCFYQIZgARmCBWQIFpAhWECGYAEZggVkCBaQIVhAhmABGYIFZAgWkCFY\\\n",
       "QIZgARl7Sw94yjzPS08gYJqmpSf8Mt/xn+fCAjIEC8gQLCBDsIAMwQIyBAvIECwgQ7CADMECMgQL\\\n",
       "yBAsIEOwgAzBAjIEC8gQLCBDsIAMwQIyBAvIECwgQ7CADMECMgQLyBAsIEOwgAzBAjIEC8gQLCBD\\\n",
       "sIAMwQIyBAvIECwgQ7CADMECMgQLyBAsIEOwgAzBAjIEC8gQLCBDsIAMwQIyBAvIECwgQ7CADMEC\\\n",
       "MgQLyBAsIEOwgAzBAjIEC8gQLCBDsIAMwQIyBAvIECwgQ7CADMECMgQLyBAsIEOwgAzBAjIEC8gQ\\\n",
       "LCBDsIAMwQIyBAvIECwgQ7CADMECMgQLyBAsIEOwgAzBAjIEC8gQLCBDsIAMwQIyBAvIECwgQ7CA\\\n",
       "DMECMgQLyBAsIEOwgAzBAjIEC8gQLCBDsIAMwQIyBAvIECwgQ7CAjL2lBzxlmqalJ/ySeZ6XngA7\\\n",
       "y4UFZAgWkCFYQIZgARmCBWQIFpAhWECGYAEZggVkCBaQIVhAhmABGYIFZAgWkCFYQIZgARmCBWQI\\\n",
       "FpAhWECGYAEZggVkCBaQIVhAhmABGYIFZAgWkCFYQIZgARmCBWQIFpAhWECGYAEZggVkCBaQIVhA\\\n",
       "hmABGYIFZAgWkCFYQIZgARmCBWQIFpAhWECGYAEZggVk7C09YNdM07T0hP+VeZ6XnsBv5MICMgQL\\\n",
       "yBAsIEOwgAzBAjIEC8gQLCBDsIAMwQIyBAvIECwgQ7CADMECMgQLyBAsIEOwgAzBAjIEC8gQLCBD\\\n",
       "sIAMwQIyBAvIECwgQ7CADMECMgQLyBAsIEOwgAzBAjIEC8gQLCBDsIAMwQIyBAvIECwgQ7CADMEC\\\n",
       "MgQLyBAsIEOwgAzBAjIEC8gQLCBDsIAMwQIy9pYe8JR5npeeAPxhXFhAhmABGYIFZAgWkCFYQIZg\\\n",
       "ARmCBWQIFpAhWECGYAEZggVkCBaQIVhAhmABGYIFZAgWkCFYQIZgARmCBWQIFpAhWECGYAEZggVk\\\n",
       "CBaQIVhAhmABGYIFZAgWkCFYQIZgARmCBWQIFpDxHYo6bIu412yyAAAAAElFTkSuQmCC\\\n",
       "\"\n",
       "  frames[2] = \"data:image/png;base64,iVBORw0KGgoAAAANSUhEUgAAASwAAAEsCAYAAAB5fY51AAAAOnRFWHRTb2Z0d2FyZQBNYXRwbG90\\\n",
       "bGliIHZlcnNpb24zLjEwLjAsIGh0dHBzOi8vbWF0cGxvdGxpYi5vcmcvlHJYcgAAAAlwSFlzAAAP\\\n",
       "YQAAD2EBqD+naQAABY1JREFUeJzt3aFuVHkchuH/aSoQBBwGhySIA4YE2RJA4cGTEHAgEWCwJL0F\\\n",
       "bqAOgeACMEgcmiApgmDOqt3sJsAOdMvh7T6PapozySeaN79JpplpWZZlAARsrT0AYFOCBWQIFpAh\\\n",
       "WECGYAEZggVkCBaQIVhAhmABGYIFZAgWkCFYQIZgARmCBWQIFpAhWECGYAEZggVkCBaQIVgc2pMn\\\n",
       "T8aXL182fv7Vq1fj8uXL4/z58+PChQvj0aNHw1cLsInJl1BwWNM0jYODg3Hy5MmNnn/z5s04ffr0\\\n",
       "OHfu3Pj8+fO4evXquHfv3rh9+/YRL6Vue+0BtN29e3eMMcaVK1fG1tbWePny5Thz5sx3X3Px4sW/\\\n",
       "fj5x4sSY53m8e/fuSHdyPLiwOLS/X1jPnz8fz549++pzd+7cGffv3//H796/fz/meR4vXrwYly5d\\\n",
       "+hVzCRMsDu1H3xL+6ePHj2N3d3fcunVrPHjw4IjWcZx4S8h/atML6+DgYNy4cWPcvHlTrNiYC4tD\\\n",
       "O3Xq1Hj79u04e/bsRs9/+vRpXL9+fVy7dm08fvz4iNdxnPhYA4f28OHDsbOzM+Z5Hh8+fPjX5/f2\\\n",
       "9sbr16/H/v7+mOd5zPM8nj59+guWUufCAjJcWECGYAEZggVkCBaQIVhAhmABGYIFZPy2/5ozTdPa\\\n",
       "E4CvWPOjmy4sIEOwgAzBAjIEC8gQLCBDsIAMwQIyBAvIECwgQ7CADMECMgQLyBAsIEOwgAzBAjIE\\\n",
       "C8gQLCBDsIAMwQIyBAvIECwgQ7CADMECMgQLyBAsIEOwgAzBAjIEC8gQLCBDsIAMwQIyBAvIECwg\\\n",
       "Q7CADMECMgQLyBAsIEOwgAzBAjIEC8gQLCBDsIAMwQIyBAvIECwgY3vtAd+yLMvaEwiYpmntCT/N\\\n",
       "3/iPc2EBGYIFZAgWkCFYQIZgARmCBWQIFpAhWECGYAEZggVkCBaQIVhAhmABGYIFZAgWkCFYQIZg\\\n",
       "ARmCBWQIFpAhWECGYAEZggVkCBaQIVhAhmABGYIFZAgWkCFYQIZgARmCBWQIFpAhWECGYAEZggVk\\\n",
       "CBaQIVhAhmABGYIFZAgWkCFYQIZgARmCBWQIFpAhWECGYAEZggVkCBaQIVhAhmABGYIFZAgWkCFY\\\n",
       "QIZgARmCBWQIFpAhWECGYAEZggVkCBaQIVhAhmABGYIFZAgWkCFYQIZgARmCBWQIFpAhWECGYAEZ\\\n",
       "ggVkCBaQIVhAhmABGYIFZAgWkCFYQIZgARmCBWQIFpAhWECGYAEZggVkCBaQIVhAhmABGYIFZAgW\\\n",
       "kCFYQIZgARmCBWQIFpAhWEDG9toDvmWaprUn/JRlWdaeAMeWCwvIECwgQ7CADMECMgQLyBAsIEOw\\\n",
       "gAzBAjIEC8gQLCBDsIAMwQIyBAvIECwgQ7CADMECMgQLyBAsIEOwgAzBAjIEC8gQLCBDsIAMwQIy\\\n",
       "BAvIECwgQ7CADMECMgQLyBAsIEOwgAzBAjIEC8gQLCBDsIAMwQIyBAvIECwgQ7CADMECMgQLyBAs\\\n",
       "IEOwgAzBAjIEC8jYXnvAcTNN09oT/leWZVl7Ar+QCwvIECwgQ7CADMECMgQLyBAsIEOwgAzBAjIE\\\n",
       "C8gQLCBDsIAMwQIyBAvIECwgQ7CADMECMgQLyBAsIEOwgAzBAjIEC8gQLCBDsIAMwQIyBAvIECwg\\\n",
       "Q7CADMECMgQLyBAsIEOwgAzBAjIEC8gQLCBDsIAMwQIyBAvIECwgQ7CADMECMgQLyBAsIEOwgAzB\\\n",
       "AjIEC8jYXnvAtyzLsvYE4DfjwgIyBAvIECwgQ7CADMECMgQLyBAsIEOwgAzBAjIEC8gQLCBDsIAM\\\n",
       "wQIyBAvIECwgQ7CADMECMgQLyBAsIEOwgAzBAjIEC8gQLCBDsIAMwQIyBAvIECwgQ7CADMECMgQL\\\n",
       "yBAsIEOwgIw/ABAWiFzsF47NAAAAAElFTkSuQmCC\\\n",
       "\"\n",
       "\n",
       "\n",
       "    /* set a timeout to make sure all the above elements are created before\n",
       "       the object is initialized. */\n",
       "    setTimeout(function() {\n",
       "        anim43177cb5892e493cb309092418facc68 = new Animation(frames, img_id, slider_id, 699.0,\n",
       "                                 loop_select_id);\n",
       "    }, 0);\n",
       "  })()\n",
       "</script>\n"
      ],
      "text/plain": [
       "<IPython.core.display.HTML object>"
      ]
     },
     "execution_count": 6,
     "metadata": {},
     "output_type": "execute_result"
    },
    {
     "data": {
      "image/png": "[encoded data removed]",
      "text/plain": [
       "<Figure size 300x300 with 1 Axes>"
      ]
     },
     "metadata": {},
     "output_type": "display_data"
    }
   ],
   "source": [
    "ani = net.animate_trajectory(traj, interval=700)\n",
    "\n",
    "# display it inline\n",
    "HTML(ani.to_jshtml())"
   ]
  },
  {
   "cell_type": "markdown",
   "id": "92ece57a",
   "metadata": {},
   "source": [
    "### Evaluation"
   ]
  },
  {
   "cell_type": "code",
   "execution_count": 7,
   "id": "030f8318",
   "metadata": {},
   "outputs": [
    {
     "ename": "NameError",
     "evalue": "name 'unflatten' is not defined",
     "output_type": "error",
     "traceback": [
      "\u001b[0;31m---------------------------------------------------------------------------\u001b[0m",
      "\u001b[0;31mNameError\u001b[0m                                 Traceback (most recent call last)",
      "Cell \u001b[0;32mIn[7], line 2\u001b[0m\n\u001b[1;32m      1\u001b[0m fig, (ax1,ax2,ax3) \u001b[38;5;241m=\u001b[39m plt\u001b[38;5;241m.\u001b[39msubplots(\u001b[38;5;241m1\u001b[39m,\u001b[38;5;241m3\u001b[39m, figsize\u001b[38;5;241m=\u001b[39m(\u001b[38;5;241m6\u001b[39m,\u001b[38;5;241m2\u001b[39m))\n\u001b[0;32m----> 2\u001b[0m ax1\u001b[38;5;241m.\u001b[39mimshow(unflatten(original), cmap\u001b[38;5;241m=\u001b[39m\u001b[38;5;124m'\u001b[39m\u001b[38;5;124mgray_r\u001b[39m\u001b[38;5;124m'\u001b[39m, vmin\u001b[38;5;241m=\u001b[39m\u001b[38;5;241m-\u001b[39m\u001b[38;5;241m1\u001b[39m, vmax\u001b[38;5;241m=\u001b[39m\u001b[38;5;241m1\u001b[39m); ax1\u001b[38;5;241m.\u001b[39mset_title(\u001b[38;5;124m\"\u001b[39m\u001b[38;5;124mOriginal\u001b[39m\u001b[38;5;124m\"\u001b[39m); ax1\u001b[38;5;241m.\u001b[39maxis(\u001b[38;5;124m'\u001b[39m\u001b[38;5;124moff\u001b[39m\u001b[38;5;124m'\u001b[39m)\n\u001b[1;32m      3\u001b[0m ax2\u001b[38;5;241m.\u001b[39mimshow(unflatten(noisy),    cmap\u001b[38;5;241m=\u001b[39m\u001b[38;5;124m'\u001b[39m\u001b[38;5;124mgray_r\u001b[39m\u001b[38;5;124m'\u001b[39m, vmin\u001b[38;5;241m=\u001b[39m\u001b[38;5;241m-\u001b[39m\u001b[38;5;241m1\u001b[39m, vmax\u001b[38;5;241m=\u001b[39m\u001b[38;5;241m1\u001b[39m); ax2\u001b[38;5;241m.\u001b[39mset_title(\u001b[38;5;124m\"\u001b[39m\u001b[38;5;124mNoisy Input\u001b[39m\u001b[38;5;124m\"\u001b[39m); ax2\u001b[38;5;241m.\u001b[39maxis(\u001b[38;5;124m'\u001b[39m\u001b[38;5;124moff\u001b[39m\u001b[38;5;124m'\u001b[39m)\n\u001b[1;32m      4\u001b[0m ax3\u001b[38;5;241m.\u001b[39mimshow(unflatten(traj[\u001b[38;5;241m-\u001b[39m\u001b[38;5;241m1\u001b[39m]), cmap\u001b[38;5;241m=\u001b[39m\u001b[38;5;124m'\u001b[39m\u001b[38;5;124mgray_r\u001b[39m\u001b[38;5;124m'\u001b[39m, vmin\u001b[38;5;241m=\u001b[39m\u001b[38;5;241m-\u001b[39m\u001b[38;5;241m1\u001b[39m, vmax\u001b[38;5;241m=\u001b[39m\u001b[38;5;241m1\u001b[39m); ax3\u001b[38;5;241m.\u001b[39mset_title(\u001b[38;5;124m\"\u001b[39m\u001b[38;5;124mRecalled\u001b[39m\u001b[38;5;124m\"\u001b[39m); ax3\u001b[38;5;241m.\u001b[39maxis(\u001b[38;5;124m'\u001b[39m\u001b[38;5;124moff\u001b[39m\u001b[38;5;124m'\u001b[39m)\n",
      "\u001b[0;31mNameError\u001b[0m: name 'unflatten' is not defined"
     ]
    },
    {
     "data": {
      "image/png": "[encoded data removed]",
      "text/plain": [
       "<Figure size 600x200 with 3 Axes>"
      ]
     },
     "metadata": {},
     "output_type": "display_data"
    }
   ],
   "source": [
    "fig, (ax1,ax2,ax3) = plt.subplots(1,3, figsize=(6,2))\n",
    "ax1.imshow(unflatten(original), cmap='gray_r', vmin=-1, vmax=1); ax1.set_title(\"Original\"); ax1.axis('off')\n",
    "ax2.imshow(unflatten(noisy),    cmap='gray_r', vmin=-1, vmax=1); ax2.set_title(\"Noisy Input\"); ax2.axis('off')\n",
    "ax3.imshow(unflatten(traj[-1]), cmap='gray_r', vmin=-1, vmax=1); ax3.set_title(\"Recalled\"); ax3.axis('off')\n",
    "plt.suptitle(\"Hopfield Recall: Input vs. Output\")\n",
    "plt.tight_layout()"
   ]
  },
  {
   "cell_type": "code",
   "execution_count": 8,
   "id": "7dc9d6aa",
   "metadata": {},
   "outputs": [
    {
     "data": {
      "image/png": "[encoded data removed]",
      "text/plain": [
       "<Figure size 640x480 with 1 Axes>"
      ]
     },
     "metadata": {},
     "output_type": "display_data"
    }
   ],
   "source": [
    "noise_levels = np.linspace(0,0.5,11)\n",
    "accuracy = []\n",
    "for p in noise_levels:\n",
    "    successes = 0\n",
    "    for _ in range(50):  # repeat trials\n",
    "        noisy = add_noise(original, p)\n",
    "        out = net.recall(noisy, max_iters=10)[-1]\n",
    "        successes += np.array_equal(out, original)\n",
    "    accuracy.append(successes/50)\n",
    "plt.plot(noise_levels, accuracy, marker='d')\n",
    "plt.xlabel(\"Flip fraction\")\n",
    "plt.ylabel(\"Recall accuracy\")\n",
    "plt.title(\"Accuracy vs. Noise Level\")\n",
    "plt.grid(alpha=0.3)\n",
    "plt.tight_layout()"
   ]
  }
 ],
 "metadata": {
  "kernelspec": {
   "display_name": "base",
   "language": "python",
   "name": "python3"
  },
  "language_info": {
   "codemirror_mode": {
    "name": "ipython",
    "version": 3
   },
   "file_extension": ".py",
   "mimetype": "text/x-python",
   "name": "python",
   "nbconvert_exporter": "python",
   "pygments_lexer": "ipython3",
   "version": "3.12.4"
  }
 },
 "nbformat": 4,
 "nbformat_minor": 5
}
